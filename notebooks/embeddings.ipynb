{
 "cells": [
  {
   "cell_type": "markdown",
   "id": "cd6ffaef-6f1a-4db5-b947-3ce64e90b5d3",
   "metadata": {},
   "source": [
    "Load preprocessed chunks, create embeddings using HooshvareLab’s BERT-FA model, and build a FAISS vector store."
   ]
  },
  {
   "cell_type": "code",
   "execution_count": null,
   "id": "546a14eb-03e7-4af8-8da2-0e8a7df266f9",
   "metadata": {},
   "outputs": [],
   "source": [
    "import os\n",
    "import pickle\n",
    "from langchain_huggingface import HuggingFaceEmbeddings\n",
    "from langchain.vectorstores import FAISS\n",
    "from langchain.docstore.document import Document\n",
    "\n",
    "# Import chunks from file or re-compute by invoking Notebook 2’s logic\n",
    "with open(os.path.join(\"..\", \"data\", \"chunks.pkl\"), \"rb\") as f:\n",
    "    chunks = pickle.load(f)\n",
    "\n",
    "print(f\"Loaded {len(chunks)} chunks.\")"
   ]
  },
  {
   "cell_type": "code",
   "execution_count": null,
   "id": "b0180614-7e9b-45fc-9c0d-ac37372b4e09",
   "metadata": {},
   "outputs": [],
   "source": [
    "embeddings = HuggingFaceEmbeddings(\n",
    "    model_name=\"HooshvareLab/bert-fa-base-uncased\",\n",
    "    model_kwargs={\"device\": \"cpu\"}  # Use \"cuda:0\" if GPU embedding is preferred\n",
    ")"
   ]
  },
  {
   "cell_type": "markdown",
   "id": "7eaba513-4a8b-4152-b6a6-d38f406fd381",
   "metadata": {},
   "source": [
    "Note that CPU embeddings may be slower; change device to GPU if needed and available"
   ]
  },
  {
   "cell_type": "code",
   "execution_count": null,
   "id": "717022fe-b0bf-4445-974f-d482c7a43e9b",
   "metadata": {},
   "outputs": [],
   "source": [
    "vectorstore = FAISS.from_documents(chunks, embeddings)\n",
    "print(\"FAISS index constructed with\", vectorstore.index.ntotal, \"vectors.\")"
   ]
  },
  {
   "cell_type": "code",
   "execution_count": null,
   "id": "99cfeecf-6ff8-40cc-931c-a7a8ae0f35a1",
   "metadata": {},
   "outputs": [],
   "source": [
    "index_path = os.path.join(\"..\", \"data\", \"faiss_index.faiss\")\n",
    "vectorstore.save_local(index_path)\n",
    "print(f\"Index saved to {index_path}\")"
   ]
  },
  {
   "cell_type": "code",
   "execution_count": null,
   "id": "6561004f-bbdd-453a-8541-b0316e3147f9",
   "metadata": {},
   "outputs": [],
   "source": []
  }
 ],
 "metadata": {
  "kernelspec": {
   "display_name": "Python (llm-env-py311)",
   "language": "python",
   "name": "llm-env-py311"
  },
  "language_info": {
   "codemirror_mode": {
    "name": "ipython",
    "version": 3
   },
   "file_extension": ".py",
   "mimetype": "text/x-python",
   "name": "python",
   "nbconvert_exporter": "python",
   "pygments_lexer": "ipython3",
   "version": "3.11.11"
  }
 },
 "nbformat": 4,
 "nbformat_minor": 5
}
