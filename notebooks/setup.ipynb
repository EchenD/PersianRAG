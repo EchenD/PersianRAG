{
 "cells": [
  {
   "cell_type": "markdown",
   "id": "6f00948f-aaa1-4197-b892-6c125ea8174f",
   "metadata": {},
   "source": [
    "This notebook installs required packages, checks Python, Torch, CUDA versions, and clears GPU memory"
   ]
  },
  {
   "cell_type": "code",
   "execution_count": null,
   "id": "7a5e2dca-d3d8-41ad-bbc8-2a33730937c2",
   "metadata": {
    "scrolled": true
   },
   "outputs": [],
   "source": [
    "%pip install --upgrade pip\n",
    "%pip install -r ../requirements.txt"
   ]
  },
  {
   "cell_type": "code",
   "execution_count": null,
   "id": "f51f6769-4b11-41ca-982e-4820b60c1fce",
   "metadata": {},
   "outputs": [],
   "source": [
    "!pip check"
   ]
  },
  {
   "cell_type": "code",
   "execution_count": null,
   "id": "f1ad1b58-708d-40b4-81d6-957a268cf19b",
   "metadata": {},
   "outputs": [],
   "source": [
    "import torch\n",
    "import torchvision\n",
    "from platform import python_version\n",
    "\n",
    "# Python version\n",
    "print(\"Python version:\", python_version())\n",
    "\n",
    "# Torch & Torchvision versions\n",
    "print(\"Torch version:\", torch.__version__)\n",
    "print(\"Torchvision version:\", torchvision.__version__)\n",
    "\n",
    "# GPU availability and device names\n",
    "print(\"CUDA available:\", torch.cuda.is_available())\n",
    "print(\"Number of GPUs:\", torch.cuda.device_count())\n",
    "if torch.cuda.is_available():\n",
    "    print(\"GPU 0:\", torch.cuda.get_device_name(0))\n",
    "    if torch.cuda.device_count() > 1:\n",
    "        print(\"GPU 1:\", torch.cuda.get_device_name(1))\n",
    "\n",
    "# Clear GPU memory if available\n",
    "if torch.cuda.is_available():\n",
    "    torch.cuda.empty_cache()\n",
    "    print(f\"GPU memory cleared. Allocated: {torch.cuda.memory_allocated(0)/1e6:.2f} MB\")"
   ]
  },
  {
   "cell_type": "code",
   "execution_count": null,
   "id": "33f2976a-5128-467f-9393-9e5626a1a8e7",
   "metadata": {},
   "outputs": [],
   "source": [
    "# Determine device index for models (0 if GPU available, else -1 for CPU)\n",
    "device = 0 if torch.cuda.is_available() else -1\n",
    "print(\"Device set to:\", \"GPU\" if device == 0 else \"CPU\")\n"
   ]
  }
 ],
 "metadata": {
  "kernelspec": {
   "display_name": "Python (llm-env-py311)",
   "language": "python",
   "name": "llm-env-py311"
  },
  "language_info": {
   "codemirror_mode": {
    "name": "ipython",
    "version": 3
   },
   "file_extension": ".py",
   "mimetype": "text/x-python",
   "name": "python",
   "nbconvert_exporter": "python",
   "pygments_lexer": "ipython3",
   "version": "3.11.11"
  }
 },
 "nbformat": 4,
 "nbformat_minor": 5
}
