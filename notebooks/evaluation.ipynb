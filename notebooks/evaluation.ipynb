{
 "cells": [
  {
   "cell_type": "markdown",
   "metadata": {},
   "source": [
    "# Evaluation of Persian RAG Retriever\n",
    "\n",
    "This notebook evaluates the retriever's performance using precision, recall, and F1 score on a test dataset."
   ]
  },
  {
   "cell_type": "code",
   "execution_count": null,
   "metadata": {},
   "outputs": [],
   "source": [
    "import sys\n",
    "sys.path.append('..')\n",
    "import pickle\n",
    "from sentence_transformers import CrossEncoder\n",
    "from scripts.evaluate_retriever import evaluate_retriever, load_test_data\n",
    "\n",
    "# Load chunks\n",
    "with open('../data/chunks.pkl', 'rb') as f:\n",
    "    chunks = pickle.load(f)\n",
    "\n",
    "# Load test data\n",
    "test_data = load_test_data('../data/test_data.json')\n",
    "\n",
    "# Initialize CrossEncoder\n",
    "cross_encoder = CrossEncoder('cross-encoder/ms-marco-MiniLM-L-6-v2')\n",
    "\n",
    "# Evaluate\n",
    "metrics = evaluate_retriever(test_data, chunks, cross_encoder)\n",
    "print(f'Precision: {metrics[\"precision\"]:.2f}')\n",
    "print(f'Recall: {metrics[\"recall\"]:.2f}')\n",
    "print(f'F1 Score: {metrics[\"f1\"]:.2f}')"
   ]
  }
 ],
 "metadata": {
  "kernelspec": {
   "display_name": "Python 3",
   "language": "python",
   "name": "python3"
  },
  "language_info": {
   "codemirror_mode": {
    "name": "ipython",
    "version": 3
   },
   "file_extension": ".py",
   "mimetype": "text/x-python",
   "name": "python",
   "nbconvert_exporter": "python",
   "pygments_lexer": "ipython3",
   "version": "3.11.0"
  }
 },
 "nbformat": 4,
 "nbformat_minor": 5
}